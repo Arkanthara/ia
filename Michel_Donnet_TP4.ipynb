{
 "cells": [
  {
   "cell_type": "markdown",
   "metadata": {},
   "source": [
    "# <center> Travaux pratiques d’IA\n",
    "## <center> Série 4: Decision Trees\n",
    "#### <center> Michel Donnet"
   ]
  },
  {
   "cell_type": "markdown",
   "metadata": {},
   "source": [
    "## Données\n",
    "Les données à utiliser pour ce TP se trouvent dans les fichiers data.csv et data_test.csv.\n",
    "Les 5 premières colonnes spécifient les variables indépendantes tandis que la dernière colonne correspond à la variable dépendante (label).\n",
    "Le fichier data_test.csv sert à évaluer les performances des arbres développés à partir des données du fichier data.csv."
   ]
  },
  {
   "cell_type": "markdown",
   "metadata": {},
   "source": [
    "J'ai défini la fonction suivante afin de convertir un fichier csv en np.array:"
   ]
  },
  {
   "cell_type": "code",
   "execution_count": 4,
   "metadata": {},
   "outputs": [],
   "source": [
    "import csv\n",
    "import numpy as np\n",
    "import random\n",
    "\n",
    "\n",
    "def convert_csv2array(name: str) -> tuple[np.ndarray, np.ndarray]:\n",
    "    \"\"\"\n",
    "    Convert a csv file into numpy array\n",
    "\n",
    "    Parameters\n",
    "    ----------\n",
    "    name: string\n",
    "        Path to the file\n",
    "\n",
    "    Return value\n",
    "    ------------\n",
    "    header and data of csv\n",
    "    \"\"\"\n",
    "    file = open(name, 'r')\n",
    "    data = []\n",
    "    reader = csv.reader(file)\n",
    "    for line in reader:\n",
    "        data.append(line)\n",
    "    data = np.array(data)\n",
    "    return data[0, :], data[1:, :].astype(int)\n",
    "\n",
    "header, data = convert_csv2array('data.csv')"
   ]
  },
  {
   "cell_type": "markdown",
   "metadata": {},
   "source": [
    "# Exercice 1: Entropie et gain d’information"
   ]
  },
  {
   "cell_type": "markdown",
   "metadata": {},
   "source": [
    "1. Calculer l’entropie de la variable dépendante."
   ]
  },
  {
   "cell_type": "code",
   "execution_count": 5,
   "metadata": {},
   "outputs": [
    {
     "name": "stdout",
     "output_type": "stream",
     "text": [
      "Entropy of the independant variable: 0.9738003694382252\n"
     ]
    }
   ],
   "source": [
    "def entropy(data: np.ndarray, column: int) -> float:\n",
    "    \"\"\"\n",
    "    Give the entropy of the given column of data\n",
    "\n",
    "    Parameters\n",
    "    ----------\n",
    "    data: np.ndarray\n",
    "        Data\n",
    "    column: int\n",
    "        column on which we want to compute entropy\n",
    "\n",
    "    Return value\n",
    "    ------------\n",
    "    The entropy of the given column of data \n",
    "    \"\"\"\n",
    "    values, count = np.unique(data[:, column], return_counts=True)\n",
    "    result = 0\n",
    "    for i in range(len(values)):\n",
    "        nb = count[i] / len(data)\n",
    "        result += -nb * np.log2(nb)\n",
    "    return result\n",
    "\n",
    "print(f\"Entropy of the independant variable: {entropy(data, 5)}\")"
   ]
  },
  {
   "cell_type": "markdown",
   "metadata": {},
   "source": [
    "2. Calculer le gain d’information réalisé après l’application de trois critères de décision aléatoires."
   ]
  },
  {
   "cell_type": "code",
   "execution_count": 8,
   "metadata": {},
   "outputs": [
    {
     "name": "stdout",
     "output_type": "stream",
     "text": [
      "For the criteria A, the gain of information is: 0.02894167191284036\n",
      "For the criteria D, the gain of information is: 0.16681614778733878\n",
      "For the criteria C, the gain of information is: 0.013270151845539147\n"
     ]
    }
   ],
   "source": [
    "def conditionnal_entropy(data: np.ndarray, column_1: int, column_2: int) -> float:\n",
    "    \"\"\"\n",
    "    Compute conditionnal entropy H(X|Y)\n",
    "\n",
    "    Parameters\n",
    "    ----------\n",
    "    data: np.ndarray\n",
    "        Data used to compute conditionnal entropy\n",
    "    column_1: int\n",
    "        Column of X\n",
    "    column_2: int\n",
    "        Column of Y\n",
    "\n",
    "    Return value\n",
    "    ------------\n",
    "    Return the result of H(X|Y)\n",
    "    \"\"\"\n",
    "    values, count = np.unique(data[:, column_2], return_counts=True)\n",
    "    result = 0\n",
    "    for i in range(len(values)):\n",
    "        newdata = data[data[:, column_2] == values[i]]\n",
    "        nb = count[i] / len(data)\n",
    "        result += nb * entropy(newdata, column_1)\n",
    "    return result\n",
    "\n",
    "def mutual_information(data: np.ndarray, column_1: int, column_2: int) -> float:\n",
    "    \"\"\"\n",
    "    Compute mutual information I(X; Y)\n",
    "    \n",
    "    The gain in information is represented by the mutual information between 2 random variables\n",
    "\n",
    "    Parameters\n",
    "    ----------\n",
    "    data: np.ndarray\n",
    "        Data used to compute mutual information\n",
    "    column_1: int\n",
    "        column of X\n",
    "    column_2: int\n",
    "        column of Y\n",
    "\n",
    "    Return value\n",
    "    ------------\n",
    "    Return the result of I(X; Y) = H(X) - H(X|Y)\n",
    "    \"\"\"\n",
    "    return entropy(data, column_1) - conditionnal_entropy(data, column_1, column_2)\n",
    "\n",
    "randnumber_1 = random.randint(0, 4)\n",
    "randnumber_2 = random.randint(0, 4)\n",
    "randnumber_3 = random.randint(0, 4)\n",
    "while randnumber_1 == randnumber_2:\n",
    "    randnumber_2 = random.randint(0, 4)\n",
    "while randnumber_3 == randnumber_1 or randnumber_3 == randnumber_2:\n",
    "    randnumber_3 = random.randint(0, 4)\n",
    "print(f\"For the criteria {header[randnumber_1]}, the gain of information is: {mutual_information(data, 5, randnumber_1)}\")\n",
    "print(f\"For the criteria {header[randnumber_2]}, the gain of information is: {mutual_information(data, 5, randnumber_2)}\")\n",
    "print(f\"For the criteria {header[randnumber_3]}, the gain of information is: {mutual_information(data, 5, randnumber_3)}\")"
   ]
  },
  {
   "cell_type": "markdown",
   "metadata": {},
   "source": [
    "3. Pour les mêmes critères de décision, calculer l’index Gini."
   ]
  },
  {
   "cell_type": "code",
   "execution_count": 10,
   "metadata": {},
   "outputs": [
    {
     "name": "stdout",
     "output_type": "stream",
     "text": [
      "For the criteria A, the gini index is: 0.5733999999999999\n",
      "For the criteria D, the gini index is: 0.7758499999999999\n",
      "For the criteria C, the gini index is: 0.67795\n"
     ]
    }
   ],
   "source": [
    "def gini(data: np.ndarray, column: int) -> float:\n",
    "    \"\"\"\n",
    "    Compute the gini index\n",
    "\n",
    "    Parameters\n",
    "    ----------\n",
    "    data: np.ndarray\n",
    "        Data used to compute gini index\n",
    "    column: int\n",
    "        column used to compute gini index\n",
    "\n",
    "    Return value\n",
    "    ------------\n",
    "    Return the index gini\n",
    "    \"\"\"\n",
    "    values, count = np.unique(data[:, column], return_counts=True)\n",
    "    result = 0\n",
    "    for i in range(len(values)):\n",
    "        nb = count[i] / len(data)\n",
    "        result += nb * nb\n",
    "    return 1 - result\n",
    "\n",
    "print(f\"For the criteria {header[randnumber_1]}, the gini index is: {gini(data, randnumber_1)}\")\n",
    "print(f\"For the criteria {header[randnumber_2]}, the gini index is: {gini(data, randnumber_2)}\")\n",
    "print(f\"For the criteria {header[randnumber_3]}, the gini index is: {gini(data, randnumber_3)}\")"
   ]
  },
  {
   "cell_type": "markdown",
   "metadata": {},
   "source": [
    "4. Quel est le critère de décision préférable selon le gain d’information ? Selon l’index Gini ?"
   ]
  },
  {
   "cell_type": "markdown",
   "metadata": {},
   "source": [
    "# Exercice 2: ID3"
   ]
  },
  {
   "cell_type": "markdown",
   "metadata": {},
   "source": [
    "1. Implémenter l’algorithme ID3 avec comme critères possibles le gain d’information et l’index Gini."
   ]
  },
  {
   "cell_type": "markdown",
   "metadata": {},
   "source": [
    "2. Comparer l’arbre obtenu à l’aide d’ID3 gain d’information avec celui produit par la démonstration."
   ]
  },
  {
   "cell_type": "markdown",
   "metadata": {},
   "source": [
    "3. Implémenter une procédure de génération de données à partir d’un arbre de décision."
   ]
  },
  {
   "cell_type": "markdown",
   "metadata": {},
   "source": [
    "4. À l’aide d’ID3 gain d’information, construire 5 arbres à partir d’échantillons aléatoires de 80% des données et utiliser comme prédiction finale un vote de majorité."
   ]
  },
  {
   "cell_type": "markdown",
   "metadata": {},
   "source": [
    "5. Comparer les performances du premier arbre obtenu avec celles de l’ensemble de 5 arbres selon les métriques suivantes: accuracy, precision, recall, F1 score."
   ]
  },
  {
   "cell_type": "markdown",
   "metadata": {},
   "source": [
    "6. Selon le F1 score, quel modèle devrait être privilégié ?"
   ]
  },
  {
   "cell_type": "markdown",
   "metadata": {},
   "source": []
  }
 ],
 "metadata": {
  "kernelspec": {
   "display_name": "Python 3",
   "language": "python",
   "name": "python3"
  },
  "language_info": {
   "codemirror_mode": {
    "name": "ipython",
    "version": 3
   },
   "file_extension": ".py",
   "mimetype": "text/x-python",
   "name": "python",
   "nbconvert_exporter": "python",
   "pygments_lexer": "ipython3",
   "version": "3.11.2"
  }
 },
 "nbformat": 4,
 "nbformat_minor": 2
}
