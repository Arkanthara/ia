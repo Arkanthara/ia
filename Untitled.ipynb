{
 "cells": [
  {
   "cell_type": "markdown",
   "id": "9e9923ad-c8e3-4f63-b42e-702b29f95f2c",
   "metadata": {
    "collapsed": false
   },
   "source": [
    "# TP2\n",
    "## 1 Algorithme $A*$\n",
    "\n",
    "Le graphe dirigé de l'énoncé représente le graphe d’état et les coûts de transitions de votre problème.\n",
    "On donne $S_I = S$ et $S_G = G$.\n",
    "\n",
    "### 1.1 Recherche aveugle\n",
    "Dans un tableau de 3 colonnes renseignez les noeuds de l’arbre, la valeur de la fonction d’évaluation et leur parent dans l’ordre dans lequels ils seront développés dans une\n",
    "recherche aveugle de votre choix (vous pouvez dessiner l’arbre de recherche)."
   ]
  },
  {
   "cell_type": "markdown",
   "id": "adb50075-b5fb-456f-9df2-e4539a554cac",
   "metadata": {
    "collapsed": false
   },
   "source": [
    "Pour résoudre ce problème, je vais utiliser un algorithme Deep First Search. Pour choisir les noeuds, on va utiliser un ordre alphabétique inversé. Donc par exemple, si on a A, B et C comme noeuds voisins,\n",
    "on va d'abord explorer la branche passant par C, puis par B, puis par A... Dans notre cas, on a A et F, donc on va commencer par visiter F. Ce qui nous donne le tableau suivant, avec les noeuds visités dans\n",
    "l'ordre établi par notre algorithme.\n",
    "\n",
    "| Node | Parent | Cost |\n",
    "|:----:|:------:|:----:|\n",
    "| S | None | 0 |\n",
    "| F | S | 7 |\n",
    "| H | F | 9 |\n",
    "| G | F | 12 |"
   ]
  },
  {
   "cell_type": "markdown",
   "id": "167a6ddb",
   "metadata": {
    "collapsed": false
   },
   "source": [
    "### 1.2 Recherche heuristique\n",
    "Le tableau suivant propose une heuristique h telle que h(s) estime le coût du chemin jusqu’à\n",
    "l’état final SG dans le graphe\n",
    "\n",
    "| Etat | S | A | C | D | F | G | H |\n",
    "|:-:|:-:|:-:|:-:|:-:|:-:|:-:|:-:|\n",
    "| h | 10 | 5 | 4 | 3 | 4 | 0 | 2 |"
   ]
  }
 ],
 "metadata": {
  "kernelspec": {
   "argv": [
    "python",
    "-m",
    "ipykernel_launcher",
    "-f",
    "{connection_file}"
   ],
   "display_name": "Python 3 (ipykernel)",
   "env": null,
   "interrupt_mode": "signal",
   "language": "python",
   "metadata": {
    "debugger": true
   },
   "name": "python3"
  },
  "name": "Untitled.ipynb"
 },
 "nbformat": 4,
 "nbformat_minor": 5
}
