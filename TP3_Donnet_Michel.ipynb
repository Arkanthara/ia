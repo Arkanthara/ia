{
  "cells": [
    {
      "cell_type": "markdown",
      "metadata": {
        "jukit_cell_id": "mQM1MNiZwv"
      },
      "source": [
        "# Exercise 1: Morpion"
      ]
    },
    {
      "cell_type": "markdown",
      "metadata": {
        "jukit_cell_id": "C90zsNh7zc"
      },
      "source": [
        "Dans cet exercice, nous allons essayer de cr\u00e9er un jeu du morpion..."
      ]
    },
    {
      "cell_type": "code",
      "metadata": {
        "jukit_cell_id": "0"
      },
      "source": [
        "import numpy as np\n",
        "from copy import deepcopy\n",
        "\n",
        "class Morpion:\n",
        "    def __init__(self):\n",
        "        self.shape = 3\n",
        "        self.grid = np.zeros((self.shape, self.shape), int)\n",
        "        self.computer = True\n",
        "        self.computer_symbol = 1\n",
        "    \n",
        "    def __str__(self):\n",
        "        n = self.shape\n",
        "        result = \"\"\n",
        "        for i in range(n):\n",
        "            for j in range(n):\n",
        "                if self.grid[i, j] == 1:\n",
        "                    result += \" o \"\n",
        "                elif self.grid[i, j] == 2:\n",
        "                    result += \" x \"\n",
        "                else:\n",
        "                    result += \" - \"\n",
        "            result += \"\\n\"\n",
        "        return result\n",
        "\n",
        "    def list_possibilities(self) -> list[np.ndarray]:\n",
        "        result = []\n",
        "        if self.computer:\n",
        "            for i in range(self.shape):\n",
        "                for j in range(self.shape):\n",
        "                    if self.grid[i, j] == 0:\n",
        "                        newgrid = deepcopy(self.grid)\n",
        "                        newgrid[i, j] = self.computer_symbol\n",
        "                        result.append(newgrid)\n",
        "        return result\n",
        "\n",
        "    def place_element(self, i: int, j: int, k: int) -> int:\n",
        "        if self.grid[i, j] != 0:\n",
        "            print(f\"You can't place 'x' at index ({i}, {j}) !\")\n",
        "            return -1\n",
        "        self.grid[i, j] = 1\n",
        "        return 0\n",
        "\n",
        "\n",
        "\n",
        "\n",
        "morpion = Morpion()\n",
        "morpion.place_element(1, 0, 1)\n",
        "morpion.place_element(1, 1, 2)\n",
        "print(morpion.list_possibilities())\n",
        "print(morpion)"
      ],
      "outputs": [
        {
          "output_type": "stream",
          "name": "stdout",
          "text": "[array([[1, 0, 0],\n       [1, 1, 0],\n       [0, 0, 0]]), array([[0, 1, 0],\n       [1, 1, 0],\n       [0, 0, 0]]), array([[0, 0, 1],\n       [1, 1, 0],\n       [0, 0, 0]]), array([[0, 0, 0],\n       [1, 1, 1],\n       [0, 0, 0]]), array([[0, 0, 0],\n       [1, 1, 0],\n       [1, 0, 0]]), array([[0, 0, 0],\n       [1, 1, 0],\n       [0, 1, 0]]), array([[0, 0, 0],\n       [1, 1, 0],\n       [0, 0, 1]])]\n -  -  - \n o  o  - \n -  -  - \n\n"
        }
      ],
      "execution_count": 1
    },
    {
      "cell_type": "code",
      "metadata": {
        "jukit_cell_id": "Ewk14kPwDk"
      },
      "source": [
        "print(\"coucou\")"
      ],
      "outputs": [
        {
          "output_type": "stream",
          "name": "stdout",
          "text": "coucou\n"
        }
      ],
      "execution_count": 2
    },
    {
      "cell_type": "markdown",
      "metadata": {
        "jukit_cell_id": "RvPbTkibqG"
      },
      "source": [
        "# Exercice 2"
      ]
    }
  ],
  "metadata": {
    "anaconda-cloud": {},
    "kernelspec": {
      "display_name": "python",
      "language": "python",
      "name": "python3"
    }
  },
  "nbformat": 4,
  "nbformat_minor": 4
}