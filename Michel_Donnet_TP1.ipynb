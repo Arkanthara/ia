{
 "cells": [
  {
   "cell_type": "markdown",
   "id": "ac58c752-1eed-4664-9501-b27f07ef352e",
   "metadata": {
    "collapsed": false
   },
   "source": [
    "# Série 1: Formalisation\n",
    "## Les trois médecins"
   ]
  },
  {
   "cell_type": "markdown",
   "id": "054d43e2-9741-41d0-bbb1-351c35fef577",
   "metadata": {
    "collapsed": false
   },
   "source": [
    "### Description\n",
    "Alice, Bob et Charles sont trois patients suivis par les médecins Xavier,\n",
    "Yolande et Zoé. Aujourd’hui, ces 6 personnes doivent être transférées de\n",
    "l’Hôpital Guéritou vers l’Hôpital Soignetou grâce à une ambulance proposant\n",
    "deux places. Les médecins ne doivent jamais se retrouver en infériorité\n",
    "numérique pour prodiguer leur soins. On peut toutefois avoir des patients\n",
    "dans un hôpital sans médecins. De plus l’ambulance ne fait pas de trajet à\n",
    "vide.\n",
    "Comment va-t-il falloir organiser les diférents trajets pour transporter\n",
    "les 6 personnes d’un hôpital à l’autre, en respectant les contraintes ?"
   ]
  },
  {
   "cell_type": "markdown",
   "id": "95373844-5c9d-43cd-932a-32bad905428d",
   "metadata": {
    "collapsed": false
   },
   "source": [
    "### Formalisation du problème recherche\n",
    "Formalisez le problème en extrayant l’information suivante pour représenter\n",
    "les différentes situations possibles. Profitez de cet exercice pour reviser les\n",
    "notions du cours."
   ]
  },
  {
   "cell_type": "markdown",
   "id": "350df221-8b2d-4d2b-8103-fc077aaa1e79",
   "metadata": {
    "collapsed": false
   },
   "source": [
    "1. Donnez une représentation des états."
   ]
  },
  {
   "cell_type": "markdown",
   "id": "187fb0e6-3593-446f-89bf-3a90d361e9b4",
   "metadata": {
    "collapsed": false
   },
   "source": [
    "On ne considère pas que le fait que les médecins et les patients aient un nom soit important\n",
    "\n",
    "On pourrait représenter un état du système par un tuple de la forme (x, y, z) avec x, le nombre de médecins dans l'Hôpital Guéritou,\n",
    "y le nombre de patients dans l'Hôpital Guéritou, et z la position de l'ambulance... Pour connaître le nombre de patients et de médecins dans\n",
    "l'Hôpital Soignetou, il suffit de faire respectivement le nombre total de médecins moins le nombre de médecins dans l'Hôpital Guéritou et le nombre total\n",
    "de patients moins le nombre de patients dans l'Hôpital Soignetou.\n",
    "\n",
    "L'ambulance est soit à l'Hôpital Guéritou, soit à l'Hôpital Soignetou. Pour modéliser le problème, on ne va donc pas considérer le temps de trajet car cela n'apporterait aucune valeur\n",
    "ajoutée...\n",
    "\n",
    "Dans notre cas, on a 3 médecins et 3 patients. L'espace des états possibles du système est donc donné par $S = (x, y, z)$ avec $x, y \\in \\{0, 1, 2, 3\\}$ car il y a 3 médecins\n",
    "et 3 patients, $x \\geq y$ ou $x = 0$ car les médecins ne doivent jamais être en infériorité numérique pour prodiguer leurs soins et qu'on peut avoir des patients dans un\n",
    "hôpital sans médecins, et $z \\in \\{0, 1\\}$ car l'ambulance est soit à l'Hôpital Guéritou, soit dans l'Hôpital Soignetou. Comme notre référentiel est l'Hôpital Guéritou, l'ambulance est\n",
    "soit là, soit pas là.\n",
    "\n",
    "On peut définir l'espace d'états par: W = ({0-3}, {0-3}, {0-1})"
   ]
  },
  {
   "cell_type": "markdown",
   "id": "b1a38c3f-75e7-421d-8698-2d4240cec68a",
   "metadata": {
    "collapsed": false
   },
   "source": [
    "2. Quels sont les opérateurs de transition possibles ?"
   ]
  },
  {
   "cell_type": "markdown",
   "id": "d0506c80-20c7-46aa-9f02-915b5b6be642",
   "metadata": {
    "collapsed": false
   },
   "source": [
    "Les opérateurs de transition possibles sont représentés par la fonction de transition:\n",
    "$$\\Gamma : S \\rightarrow S$$\n",
    "La fonction de transition est la contrainte de l'ambulance: l'ambulance a 2 places et ne fait jamais de trajets à vide.\n",
    "\n",
    "On a donc soit un patient, soit un médecin, soit un patient et un médecin, soit deux médecins, soit deux patients dans l'ambulance. Ce sont nos opérateurs de transition possibles."
   ]
  },
  {
   "cell_type": "markdown",
   "id": "13ebda85-8389-43e3-98a1-2f943fd6d0f0",
   "metadata": {
    "collapsed": false
   },
   "source": [
    "3. Définissez les conditions pour lesquelles les opérateurs sont applicables."
   ]
  },
  {
   "cell_type": "markdown",
   "id": "87796d27-95cf-4164-8116-d28bef3a83a4",
   "metadata": {
    "collapsed": false
   },
   "source": [
    "Les opérateurs sont applicables si on peut passer d'un état appartenant à l'espace d'états du système à un autre espace appartenant à l'espace d'états du système.\n",
    "Donc les opérateurs sont applicables si:\n",
    "$ f (x, y, z) = (x', y', z')$ avec $x', y' \\in \\{0, 1, 2, 3\\}$, si ($x' \\geq y'$ ou $x'=0$).\n",
    "\n",
    "On a également que\n",
    "- si z' = 1, alors $x'+y' - (x+y) \\in \\{1, 2\\}$ et $x' - x, y'-y \\in \\{1, 2\\}$\n",
    "- si z'= 0, alors $x+y - (x'+y') \\in \\{1, 2\\}$ et $x - x', y - y' \\in \\{1, 2\\}$\n",
    "\n",
    "Cette condition oblige à avoir minimum une personne dans l'ambulance et maximum deux personnes dans l'ambulance, et à ne pas avoir des téléportations de personnes. \n",
    "\n",
    "(La deuxième partie a été ajoutée après avoir fait la question 4. car je me suis retrouvé devant le cas de téléportation de personnes: (3, 2, 1) $\\rightarrow$ (0, 3, 0). Dans ce cas, \n",
    "la contrainte de l'ambulance est respectée,\n",
    "ainsi que la contrainte $x \\geq y$ ou $x=0$)"
   ]
  },
  {
   "cell_type": "markdown",
   "id": "f841d27a-4d88-456b-88d0-46414e611ac8",
   "metadata": {
    "collapsed": false
   },
   "source": [
    "4. En vous basant sur le _TP0_, implementez un algorithme de recherche\n",
    "pour résoudre le problème en utilisant un arbre de recherche correspondant à la description que vous avez choisi."
   ]
  },
  {
   "cell_type": "code",
   "execution_count": 1,
   "id": "f954b7f1-e9fd-4398-aa66-3250f1a948d5",
   "metadata": {
    "collapsed": false
   },
   "outputs": [
    {
     "name": "stdout",
     "output_type": "stream",
     "text": [
      "[[3, 3, 1], [2, 2, 0], [3, 2, 1], [2, 1, 0], [2, 2, 1], [0, 2, 0], [0, 3, 1], [0, 1, 0], [0, 2, 1], [0, 0, 0]]\n"
     ]
    }
   ],
   "source": [
    "import numpy as np\n",
    "\n",
    "def list_possibilities(node: list[int]) -> list[list[int]]:\n",
    "    k = 0\n",
    "    if node[2] == 0:\n",
    "        k = 1\n",
    "    result = []\n",
    "    for i in np.arange(4):\n",
    "        for j in np.arange(4):\n",
    "            if ispossible(node, [i, j, k]):\n",
    "                result.append([i, j, k])\n",
    "    return result\n",
    "                \n",
    "\n",
    "# Node: doctors, cobayes, cars\n",
    "\n",
    "def ispossible(node: list[int], next: list[int]) -> bool:\n",
    "    if node[2] != next[2]:\n",
    "        var = 0\n",
    "        if (next[0] >= next[1] or next[0] == 0):\n",
    "            if node[2] == 0:\n",
    "                var = next[0] + next[1] - (node[0] + node[1])\n",
    "                if (next[0] - node[0]) > 2 or (next[1] - node[1]) > 2: return False\n",
    "            else:\n",
    "                var = node[0] + node[1] - (next[0] + next[1])\n",
    "                if (node[0] - next[0]) > 2 or (node[1] - next[1]) > 2: return False\n",
    "        if (var == 1 or var == 2):\n",
    "            return True\n",
    "    return False\n",
    "\n",
    "def stop_condition(node: list[int]) -> bool:\n",
    "    if (node[0] != 0 or node[1] != 0):\n",
    "        return False\n",
    "    return True\n",
    "\n",
    "def find_parent(node: list[int], list_parents: list[list[list[int]]]) -> list[int]:\n",
    "    for i in range(len(list_parents)):\n",
    "        if node == list_parents[i][0]:\n",
    "            return list_parents[i][1]\n",
    "    return []\n",
    "\n",
    "def BFS(start: list[int]):\n",
    "    stack = []\n",
    "    node = []\n",
    "    parents = []\n",
    "    path = []\n",
    "    stack.append(start)\n",
    "    visited = []\n",
    "    while len(stack) != 0:\n",
    "        node = stack.pop(0)\n",
    "        visited.append(node)\n",
    "        if stop_condition(node):\n",
    "            break\n",
    "        tmp = list_possibilities(node)\n",
    "        for i in tmp:\n",
    "            if i not in visited:\n",
    "                stack.append(i)\n",
    "                parents.append([i, node])\n",
    "    if stop_condition(node):\n",
    "        path.append(node)\n",
    "        parent = find_parent(node, parents)\n",
    "        while parent != []:\n",
    "            path.append(parent)\n",
    "            parent = find_parent(parent, parents)\n",
    "        return path[::-1]\n",
    "    else:\n",
    "        print(\"No solution\")\n",
    "\n",
    "print(BFS([3, 3, 1]))"
   ]
  },
  {
   "cell_type": "markdown",
   "id": "e0dbcf7c-9770-4f6b-8766-b708784c7121",
   "metadata": {
    "collapsed": false
   },
   "source": [
    "### Complexité\n",
    "\n",
    "1. Calculez la taille de l’espace de recherche. Pour taille de l’espace de\n",
    "recherche on considère tout l’espace de recherche, y compris les états\n",
    "où les patients ne sont plus accompagnés."
   ]
  },
  {
   "cell_type": "markdown",
   "id": "aad71642-a545-4684-a298-fd1f3f32f789",
   "metadata": {
    "collapsed": false
   },
   "source": [
    "La taille de l'espace de recherche est donné par:\n",
    "\n",
    "Taille de S: \n",
    "$$S = 4 \\times 4 \\times 2 - 1 - 1= 30$$\n",
    "\n",
    "En effet, comme on considère tout l'espace de recherche, y compris les états où les patients ne sont plus accompagnés, on considère qu'il peut y avoir moins de médecins que de patients car le patient n'a\n",
    "plus besoin d'être accompagné et suivi par un médecin. Auquel cas, on a simplement le choix entre 0, 1, 2, ou 3 médecins, le choix entre 0, 1, 2, ou 3 patients et le choix de la position de l'ambulance qui est soit 0, soit 1. Cependant, on soustrait le cas où on est dans l'état (3, 3, 0) et l'état (0, 0, 1), car cela impliquerait que l'ambulance fasse un trajet à vide, ce qui n'est pas possible..."
   ]
  },
  {
   "cell_type": "markdown",
   "id": "0811da64-fd6a-4dfb-ab0a-181f0808d1f5",
   "metadata": {
    "collapsed": false
   },
   "source": [
    "2. Calculez le nombre d’états où chaque patient est accompagné."
   ]
  },
  {
   "cell_type": "markdown",
   "id": "d2ec17dd-05c6-414c-b992-ce9fdfe8671d",
   "metadata": {
    "collapsed": false
   },
   "source": [
    "Le nombre d'états où chaque patient est accompagné est égal à:\n",
    "\n",
    "Nombre d'états de S moins la possibilité qu'il y ait 0 médecins dans l'hôpital Guéritou alors que l'ambulance est là ($\\sum_{i=1}^{4} 1 = 3$), moins la possibilité qu'il y ait des patients pas\n",
    "accompagnés alors que l'ambulance n'est pas là ($\\sum_{i=1}^{4} 1 = 3$), moins la possibilité qu'il y ait moins de médecins que de patients ($\\sum_{i = 1}^{3}(\\sum_{j = i + 1}^{4} 1)$. Cette formule\n",
    "donne la probabilité qu'il y ait 1 ou 2 docteurs pour un nombre de patients compris entre nombre de docteurs + 1 et nombre maximal de patients...). Ce qui donne:\n",
    "\n",
    "Nombre d'états où chaque patient est accompagné:\n",
    "\n",
    "$$AC = 30 - 2\\times\\sum_{i=1}^{4} 1 - \\sum_{i = 1}^{3}(\\sum_{j = i + 1}^{4} 1)\n",
    "= 30 - 6 - \\sum_{i = 0}^{2}(\\sum_{j = i + 1}^{3}1)\n",
    "= 24 - 2\\times3\n",
    "= 18$$"
   ]
  },
  {
   "cell_type": "code",
   "execution_count": 3,
   "id": "c946fee1-d045-4dfa-9f8b-70c992f8cac4",
   "metadata": {
    "collapsed": false
   },
   "outputs": [
    {
     "name": "stdout",
     "output_type": "stream",
     "text": [
      "18\n"
     ]
    }
   ],
   "source": [
    "def size_search_space(nodes: list[list[int]], current: list[int]) -> list[list[int]]:\n",
    "    nodes.append(current)\n",
    "    possibilities = list_possibilities(current)\n",
    "    for i in possibilities:\n",
    "        if i not in nodes:\n",
    "            size_search_space(nodes, i)\n",
    "    return nodes\n",
    "\n",
    "def patients():\n",
    "    tuples = size_search_space([], [3, 3, 1])\n",
    "    n = len(tuples)\n",
    "    for i in range(1, 4):\n",
    "        if [0, i, 0] in tuples:\n",
    "            n -= 1\n",
    "    for i in range(3):\n",
    "        if [3, i, 1] in tuples:\n",
    "                n -= 1\n",
    "    return n\n",
    "\n",
    "print(patients())\n",
    "        "
   ]
  },
  {
   "cell_type": "markdown",
   "id": "16964604-3349-4594-a5b8-56d5dc4853d4",
   "metadata": {
    "collapsed": false
   },
   "source": [
    "3. Calculez le nombre d’états accessibles depuis l’état initial."
   ]
  },
  {
   "cell_type": "markdown",
   "id": "d057420c-6402-4576-a220-2337eb7ae030",
   "metadata": {
    "collapsed": false
   },
   "source": [
    "Le nombre d'états accessibles depuis l'état initial est donné par le nombre d'états total moins le nombre d'états où les patients ne sont pas accompagnés plus le nombre d'états où on a 0 médecins, des patients et l'ambulance à un hôpital ($\\sum_{i = 1}^{4} 1$) fois deux car cela peut s'appliquer aux deux hôpitaux. Cela nous donne:\n",
    "\n",
    "$$accessible = S - (S - AC) + (\\sum_{i = 1}^{4} 1)\\times2\n",
    "= 30 - (30 - 18) + 3\\times2\n",
    "= 24$$"
   ]
  },
  {
   "cell_type": "code",
   "execution_count": null,
   "metadata": {},
   "outputs": [],
   "source": [
    "print(len(size_search_space([], [3, 3, 1])))"
   ]
  },
  {
   "cell_type": "markdown",
   "id": "7f7afeb1-6489-4830-ab24-767feba7197b",
   "metadata": {
    "collapsed": false
   },
   "source": [
    "## Les tours de Hanoi\n",
    "\n",
    "### Description\n",
    "\n",
    "Les tours de Hanoi est un casse-tête dont le but est de transférer une tour\n",
    "d’un poteau à l’autre. Le jeu se compose de n disques de tailles croissante\n",
    "enilés sur 3 poteaux. Au début du jeu, les n disques forment une tour\n",
    "croissante sur le poteau de gauche. Le but est de transférer cette tour sur\n",
    "le poteau de droite en utilisant aussi le poteau du milieu. On ne peut pas\n",
    "empiler un disque sur un autre plus petit."
   ]
  },
  {
   "cell_type": "markdown",
   "id": "9d3e0041-da6d-47eb-92be-088cdae09405",
   "metadata": {
    "collapsed": false
   },
   "source": [
    "### Questions\n",
    "1. Formalisez le problème:\n",
    "   - formalisation d'un état\n",
    "   - formalisation de l'état initial et de l'état final\n",
    "   - formalisation des transitions"
   ]
  },
  {
   "cell_type": "markdown",
   "id": "b253136f-d7fa-4fc4-aed0-f502255c98c4",
   "metadata": {
    "collapsed": false
   },
   "source": [
    "- On pourrait représenter un état par une liste de liste $[[x_1, \\dots, x_l], [y_1, \\dots, y_m], [z_1, \\dots, z_p]]$ avec $x_1, \\dots, x_l , y_1, \\dots, y_m$ et $z_1, \\dots, z_p$ la taille des disques présents sur les tours $x, y,$ et $z$. On a que le nombre de disques total est égal à $l + m + p$. Donc pour $n$ disques, on a:\n",
    "$n = l + m + p$\n",
    "\n",
    "    [] représente l'état où la tour ne possède aucun disque...\n",
    "    \n",
    "    La fin de chaque liste (donc ici $x_l, y_m, z_p$) représente le disque du sommet de la tour $x, y$ et $z$.\n",
    "\n",
    "    On est contrait à avoir une représentation comme cela de nos états, car l'information de quel disque se trouve sur quel disque est importante pour savoir quel disque va se trouver en sommet de tour si\n",
    "    on enlève un disque..."
   ]
  },
  {
   "cell_type": "markdown",
   "id": "1c2293f8-035b-41b9-9b49-a2d108bd6567",
   "metadata": {
    "collapsed": false
   },
   "source": [
    "- L'état initial est donné par $[[], [], [z_1, \\dots, z_n]]$ avec n le nombre de disques total trié dans l'ordre du plus grand disque au plus petit disque (fin de liste = disque du sommet de la pile)\n",
    "\n",
    "    L'état final est donné par $[[x_1, \\dots, x_n], [], []]$"
   ]
  },
  {
   "cell_type": "markdown",
   "id": "a4b4f39b-8945-4df5-a30b-51b9e326c275",
   "metadata": {
    "collapsed": false
   },
   "source": [
    "- On peut définir la fonction de transition comme:\n",
    "$f: S \\rightarrow S$\n",
    "tel que $f(state) = newstate$ avec $state$ et $newstate$ une liste de liste représentant un état du système, comme définie précédement.\n",
    "\n",
    "    On aura comme contrainte que si le disque de la tour $i$ a été déplacé sur la tour $j$, alors:\n",
    "    - $last.element(state[i]) = last.element(newstate[j])$\n",
    "    - $last.element(state[i]) \\lt last.element(state[j])$ OR $state[j]$ is empty"
   ]
  },
  {
   "cell_type": "markdown",
   "id": "28b4f929-8530-4b6b-9fa9-1770b51ab3ca",
   "metadata": {
    "collapsed": false
   },
   "source": [
    "2. Combien y a-t-il d'états possibles pour $n = 3$ ?"
   ]
  },
  {
   "cell_type": "markdown",
   "id": "79514378-b8f1-4d80-917e-26140a001ab4",
   "metadata": {
    "collapsed": false
   },
   "source": [
    "On a:\n",
    "- $1\\times3$ correspondant au nombre d'états où les 3 disques sont empilés sur une tour\n",
    "- $3\\times2\\times1$ correspondant au nombre d'états où chaque disque est sur une tour différente\n",
    "- $(3\\times2\\times1)\\times3$ correspondant au nombre d'états où une tour contient 2 disques sachant qu'il y a à chaque fois 2 agencements possibles de disques pour mettre 2 disques sur une tour...\n",
    "\n",
    "Ce qui donne un nombre d'états possible de:\n",
    "$$1\\times3 + 3\\times2\\times1 + (3\\times2\\times1)\\times3 = 27\\ états\\ possibles$$"
   ]
  },
  {
   "cell_type": "markdown",
   "id": "9b119a3a-42d3-4ee6-a678-f14f07717558",
   "metadata": {
    "collapsed": false
   },
   "source": [
    "3. En vous basant sur le TP0, implémentez la solution pour $n=3$"
   ]
  },
  {
   "cell_type": "code",
   "execution_count": 2,
   "id": "ca98a471-6b60-4cf8-937c-af28a42395cd",
   "metadata": {
    "collapsed": false
   },
   "outputs": [
    {
     "name": "stdout",
     "output_type": "stream",
     "text": [
      "[[[], [], [2, 1, 0]], [[0], [], [2, 1]], [[0], [1], [2]], [[], [1, 0], [2]], [[2], [1, 0], []], [[2], [1], [0]], [[2, 1], [], [0]], [[2, 1, 0], [], []]]\n"
     ]
    }
   ],
   "source": [
    "import copy as cp\n",
    "\n",
    "def is_possible(state: list[list[int]], move: list[int]) -> bool:\n",
    "    if len(state[move.index(1)]) == 0: return False\n",
    "    if len(state[move.index(2)]) == 0: return True\n",
    "    if state[move.index(1)][0] < state[move.index(2)][0]: return True\n",
    "    return False\n",
    "\n",
    "def execute_possibilitie(state: list[list[int]], move: list[int]) -> list[list[int]]:\n",
    "    disk = state[move.index(1)].pop()\n",
    "    state[move.index(2)].append(disk)\n",
    "    return state\n",
    "\n",
    "def list_possibilities(state: list[list[int]]) -> list[list[int]]:\n",
    "    possibilities = []\n",
    "    for i in range(3):\n",
    "        for j in range(3):\n",
    "            for k in range(3):\n",
    "                if i != j and j != k and i != k:\n",
    "                    if (is_possible(state, [i, j, k])):\n",
    "                        newstate = cp.deepcopy(state)\n",
    "                        possibilities.append(execute_possibilitie(newstate, [i, j, k]))\n",
    "    return possibilities\n",
    "\n",
    "\n",
    "\n",
    "def stop_condition(state: list[list[int]]) -> bool:\n",
    "    if state[0] == [2, 1, 0] and len(state[1]) + len(state[2]) == 0: return True\n",
    "    return False\n",
    "\n",
    "\n",
    "def find_parent(node: list[int], list_parents: list[list[list[int]]]) -> list[int]:\n",
    "    for i in range(len(list_parents)):\n",
    "        if list_parents[i][0][0] == node[0] and list_parents[i][0][1] == node[1] and list_parents[i][0][2] == node [2]:\n",
    "            return list_parents[i][1]\n",
    "    return []\n",
    "\n",
    "def is_in_list(state: list[list[int]], visited: list[list[list[int]]]) -> bool:\n",
    "    for i in range(len(visited)):\n",
    "        if visited[i][0] == state[0] and visited[i][1] == state[1] and visited[i][2] == state[2]: return True\n",
    "    return False\n",
    "\n",
    "\n",
    "\n",
    "def BFS_2(state: list[list[int]]) -> list[list[int]]:\n",
    "    stack = []\n",
    "    node = []\n",
    "    parents = []\n",
    "    visited = []\n",
    "    path = []\n",
    "    stack.append(state)\n",
    "    while len(stack) != 0:\n",
    "        node = stack.pop(0)\n",
    "        visited.append(node)\n",
    "        if stop_condition(node):\n",
    "            break\n",
    "        tmp = list_possibilities(node)\n",
    "        for i in tmp:\n",
    "            if not is_in_list(i, visited):\n",
    "                stack.append(i)\n",
    "                parents.append([i, node])\n",
    "    if stop_condition(node):\n",
    "        path.append(node)\n",
    "        parent = find_parent(node, parents)\n",
    "        while parent != []:\n",
    "            path.append(parent)\n",
    "            parent = find_parent(parent, parents)\n",
    "        return path[::-1]\n",
    "    else:\n",
    "        print(\"No result\")\n",
    "        return []\n",
    "\n",
    "print(BFS_2([[], [], [2, 1, 0]]))\n",
    "                    "
   ]
  }
 ],
 "metadata": {
  "kernelspec": {
   "argv": [
    "python",
    "-m",
    "ipykernel_launcher",
    "-f",
    "{connection_file}"
   ],
   "display_name": "Python 3 (ipykernel)",
   "env": null,
   "interrupt_mode": "signal",
   "language": "python",
   "name": "python3"
  },
  "language_info": {
   "codemirror_mode": {
    "name": "ipython",
    "version": 3
   },
   "file_extension": ".py",
   "mimetype": "text/x-python",
   "name": "python",
   "nbconvert_exporter": "python",
   "pygments_lexer": "ipython3",
   "version": "3.11.5"
  },
  "name": "michel_tp1.ipynb"
 },
 "nbformat": 4,
 "nbformat_minor": 4
}
