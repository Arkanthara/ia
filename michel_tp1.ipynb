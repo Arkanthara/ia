{
 "cells": [
  {
   "cell_type": "markdown",
   "metadata": {},
   "source": [
    "# S\u00e9rie 1: Formalisation\n",
    "## Les trois m\u00e9decins"
   ]
  },
  {
   "cell_type": "markdown",
   "metadata": {},
   "source": [
    "### Description\n",
    "Alice, Bob et Charles sont trois patients suivis par les m\u00e9decins Xavier,\n",
    "Yolande et Zo\u00e9. Aujourd\u2019hui, ces 6 personnes doivent \u00eatre transf\u00e9r\u00e9es de\n",
    "l\u2019H\u00f4pital Gu\u00e9ritou vers l\u2019H\u00f4pital Soignetou gr\u00e2ce \u00e0 une ambulance proposant\n",
    "deux places. Les m\u00e9decins ne doivent jamais se retrouver en inf\u00e9riorit\u00e9\n",
    "num\u00e9rique pour prodiguer leur soins. On peut toutefois avoir des patients\n",
    "dans un h\u00f4pital sans m\u00e9decins. De plus l\u2019ambulance ne fait pas de trajet \u00e0\n",
    "vide.\n",
    "Comment va-t-il falloir organiser les dif\u00e9rents trajets pour transporter\n",
    "les 6 personnes d\u2019un h\u00f4pital \u00e0 l\u2019autre, en respectant les contraintes ?"
   ]
  },
  {
   "cell_type": "markdown",
   "metadata": {},
   "source": [
    "### Formalisation du probl\u00e8me recherche\n",
    "Formalisez le probl\u00e8me en extrayant l\u2019information suivante pour repr\u00e9senter\n",
    "les diff\u00e9rentes situations possibles. Profitez de cet exercice pour reviser les\n",
    "notions du cours."
   ]
  },
  {
   "cell_type": "markdown",
   "metadata": {},
   "source": [
    "1. Donnez une repr\u00e9sentation des \u00e9tats."
   ]
  },
  {
   "cell_type": "markdown",
   "metadata": {},
   "source": [
    "On peut avoir une repr\u00e9sentation du genre S = (m, p, a) avec m le nombre de m\u00e9decins, p le nombre de patients et a la position de l'ambulance\n",
    "\n",
    "Il reste \u00e0 d\u00e9finir l'espace d'\u00e9tats $\\Sigma$ du syst\u00e8me...\n",
    "\n",
    "On peut d\u00e9finir l'espace d'\u00e9tats par: W = ({0-3}, {0-3}, {0-1})"
   ]
  },
  {
   "cell_type": "markdown",
   "metadata": {},
   "source": [
    "2. Quels sont les op\u00e9rateurs de transition possibles ?"
   ]
  },
  {
   "cell_type": "markdown",
   "metadata": {},
   "source": [
    "3. D\u00e9finissez les conditions pour lesquelles les op\u00e9rateurs sont applicables."
   ]
  },
  {
   "cell_type": "markdown",
   "metadata": {},
   "source": [
    "4. En vous basant sur le _TP0_, implementez un algorithme de recherche\n",
    "pour r\u00e9soudre le probl\u00e8me en utilisant un arbre de recherche correspondant \u00e0 la description que vous avez choisi."
   ]
  },
  {
   "cell_type": "code",
   "metadata": {},
   "source": [
    "print(\"Coucou\")"
   ],
   "outputs": [
    {
     "name": "stdout",
     "output_type": "stream",
     "text": [
      "Coucou\n"
     ]
    }
   ],
   "execution_count": 1
  }
 ],
 "metadata": {
  "kernelspec": {
   "display_name": "Python 3",
   "language": "python",
   "name": "python3"
  },
  "language_info": {
   "file_extension": ".py",
   "mimetype": "text/x-python",
   "name": "python",
   "version": "3.9.2"
  }
 },
 "nbformat": 4,
 "nbformat_minor": 4
}
