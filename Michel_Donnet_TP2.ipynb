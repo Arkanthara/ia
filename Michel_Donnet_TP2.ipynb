{
 "cells": [
  {
   "cell_type": "markdown",
   "id": "9e9923ad-c8e3-4f63-b42e-702b29f95f2c",
   "metadata": {
    "collapsed": false
   },
   "source": [
    "# TP2\n",
    "## 1 Algorithme $A*$\n",
    "\n",
    "Le graphe dirigé de l'énoncé représente le graphe d’état et les coûts de transitions de votre problème.\n",
    "On donne $S_I = S$ et $S_G = G$.\n",
    "\n",
    "### 1.1 Recherche aveugle\n",
    "Dans un tableau de 3 colonnes renseignez les noeuds de l’arbre, la valeur de la fonction d’évaluation et leur parent dans l’ordre dans lequels ils seront développés dans une\n",
    "recherche aveugle de votre choix (vous pouvez dessiner l’arbre de recherche)."
   ]
  },
  {
   "cell_type": "markdown",
   "id": "adb50075-b5fb-456f-9df2-e4539a554cac",
   "metadata": {
    "collapsed": false
   },
   "source": [
    "Pour résoudre ce problème, je vais utiliser un algorithme Deep First Search. Pour choisir les noeuds, on va utiliser un ordre alphabétique inversé. Donc par exemple, si on a A, B et C comme noeuds voisins,\n",
    "on va d'abord explorer la branche passant par C, puis par B, puis par A... Dans notre cas, on a A et F, donc on va commencer par visiter F. Ce qui nous donne le tableau suivant, avec les noeuds visités dans\n",
    "l'ordre établi par notre algorithme.\n",
    "\n",
    "| Node | Parent | Cost |\n",
    "|:----:|:------:|:----:|\n",
    "| S | None | 0 |\n",
    "| F | S | 7 |\n",
    "| H | F | 9 |\n",
    "| G | F | 12 |"
   ]
  },
  {
   "cell_type": "markdown",
   "id": "167a6ddb",
   "metadata": {
    "collapsed": false
   },
   "source": [
    "### 1.2 Recherche heuristique\n",
    "Le tableau suivant propose une heuristique h telle que h(s) estime le coût du chemin jusqu’à\n",
    "l’état final SG dans le graphe\n",
    "\n",
    "| Etat | S | A | C | D | F | G | H |\n",
    "|:-:|:-:|:-:|:-:|:-:|:-:|:-:|:-:|\n",
    "| h | 10 | 5 | 4 | 3 | 4 | 0 | 2 |"
   ]
  },
  {
   "cell_type": "markdown",
   "id": "ea106cd9-5c28-495c-944c-306547c02e46",
   "metadata": {
    "collapsed": false
   },
   "source": [
    "1. Cette fonction heuristique est-elle admissible ? Pourquoi ?\n",
    "\n",
    "    Une heuristique est admissible si elle sous-estime le coût du chemin vers la solution. Donc si $h^*(v)$ est le coût réel du chemin allant jusqu'au noeud $v$, alors si $h$ est admissible,\n",
    "    on aura:\n",
    "    $$0 \\leq h(v) \\leq h^*(v)$$\n",
    "    Dans notre cas, on a $0 \\leq h(G) = 0 \\leq h^*(G) = 11 $ (j'ai calculé de tête le coût minimal de la solution avec la pondération du graphe...). Donc notre heuristique est admissible."
   ]
  },
  {
   "cell_type": "markdown",
   "id": "09b41df4-2310-4fb6-8303-701389d8e1ee",
   "metadata": {
    "collapsed": false
   },
   "source": [
    "2. Cette fonction heuristique est-elle consistante ? Pourquoi ?\n",
    "\n",
    "    Une heuristique est dite consistante si elle maintient cet ordre:\n",
    "\n",
    "    S'il existe une transition allant de $s$ à $s'$ de coût $c(s, s')$, alors\n",
    "    $$h(s) \\leq h(s') + c(s, s')$$\n",
    "\n",
    "    Dans notre cas, on a:\n",
    "    $h(A) = 5 \\leq h(S) + c(F, A) = 4 + 8 = 12$ Ok\n",
    "\n",
    "    $h(F) = 4 \\leq h(A) + c(A, F) = 5 + 8 = 13$ Ok\n",
    "\n",
    "    $h(G) = 0 \\leq h(F) + c(F, G) = 4 + 5 = 9$ Ok // À considérer ???\n",
    "\n",
    "    $h(G) = 0 \\leq h(C) + c(C, G) = 4 + 5 = 9$ Ok // Idem\n",
    "    \n",
    "    $h(G) = 0 \\leq h(D) + c(D, G) = 3 + 3 = 6$ Ok // Idem\n",
    "\n",
    "    Notre fonction est donc consistante\n"
   ]
  },
  {
   "cell_type": "markdown",
   "id": "268d2e8a-384a-41fc-8300-1857fc6d8d7c",
   "metadata": {
    "collapsed": false
   },
   "source": [
    "3. Quelles sont les fonctions d'évaluation utilisées par la méthode _greedy best first search_ et l'algorithme $A^*$ ?\n",
    "\n",
    "    La fonction d'évaluation utilisée par la méthode _greedy best first search_ est donnée par:\n",
    "    $$f(v) = h(v)$$\n",
    "    La fonction d'évaluation utilisée par l'algorithme $A^*$ est donnée par:\n",
    "    $$f(v) = g(v) + h(v)$$\n",
    "    La fonction $g(v)$ est la prise en compte de la connaissance actuelle de notre système pour mieux se diriger vers la solution optimale."
   ]
  },
  {
   "cell_type": "code",
   "execution_count": 10,
   "id": "e5f7780f-f471-4e9f-a51b-13742336fb45",
   "metadata": {
    "collapsed": false
   },
   "outputs": [
    {
     "name": "stdout",
     "output_type": "stream",
     "text": [
      "['S', 'F', 'G']\n"
     ]
    }
   ],
   "source": [
    "\n",
    "\n",
    "def list_neighbourg(node: str, graph: list[list[list[str]]]):\n",
    "    for i in range(len(graph)):\n",
    "        if node == graph[i][0]:\n",
    "            return graph[i][1]\n",
    "    print(\"Empty list\")\n",
    "    return []\n",
    "        \n",
    "def list_sorted(mylist: list[str], h: dict[str, int]):\n",
    "    result = {}\n",
    "    for i in range(len(mylist)):\n",
    "        result[mylist[i]] = h[mylist[i]]\n",
    "    return list(dict(sorted(result.items(), key=lambda item: item[1])).keys())\n",
    "\n",
    "def Greedy_BFS(start: str, goal: str, graph: list[list[list[str]]], h: dict[str, int]):\n",
    "    visited = []\n",
    "    stack = []\n",
    "    parents = {}\n",
    "    node = \"\"\n",
    "    stack.append(start)\n",
    "    while (len(stack) != 0):\n",
    "        node = stack.pop()\n",
    "        visited.append(node)\n",
    "        if (node == goal):\n",
    "            break\n",
    "        neighbourg = list_neighbourg(node, graph)\n",
    "        if len(neighbourg) != 0:\n",
    "            neighbourg = list_sorted(neighbourg, h)\n",
    "            neighbourg.reverse()\n",
    "            for i in neighbourg:\n",
    "                if i not in visited:\n",
    "                    parents[i] = node\n",
    "                    stack.append(i)\n",
    "                \n",
    "    if node == goal:\n",
    "        path = []\n",
    "        path.append(node)\n",
    "        parent = node\n",
    "        while parent in parents.keys():\n",
    "            parent = parents[parent]\n",
    "            path.append(parent)\n",
    "        return path[::-1]\n",
    "    print(\"No result\")\n",
    "    return -1\n",
    "\n",
    "h = {\"S\":10, \"A\":5, \"C\":4, \"D\":3, \"F\":4, \"G\":0, \"H\":2}\n",
    "\n",
    "graph = [[\"S\", [\"F\", \"A\"]], [\"F\", [\"H\", \"G\", \"A\"]], [\"H\", []], [\"G\", []], [\"D\", [\"G\"]], [\"C\", [\"D\", \"G\"]], [\"A\", [\"F\", \"C\"]]]\n",
    "\n",
    "print(Greedy_BFS(\"S\", \"G\", graph, h))\n",
    "        "
   ]
  },
  {
   "cell_type": "code",
   "execution_count": 2,
   "id": "a3336717-2ad5-403d-bf99-430aa590f3b5",
   "metadata": {
    "collapsed": false
   },
   "outputs": [
    {
     "name": "stdout",
     "output_type": "stream",
     "text": [
      "['S', 'F', 'G']\n"
     ]
    }
   ],
   "source": [
    "def list_neighbourg(node: dict[str, int], graph: dict[str, list[tuple[str, int]]]):\n",
    "    result = []\n",
    "    for i in graph[node[0]]:\n",
    "        result.append((i[0], h[i[0]]))\n",
    "    result.sort(key=lambda item: item[1], reverse=True)\n",
    "    return result\n",
    "\n",
    "\n",
    "def Greedy_BFS(start: str, goal: str, graph, h: dict[str, int]):\n",
    "    visited = []\n",
    "    stack = []\n",
    "    parents = {}\n",
    "    node = \"\"\n",
    "    stack.append((start, h[start]))\n",
    "    while (len(stack) != 0):\n",
    "        tmp = stack.pop()\n",
    "        node = (tmp[0], tmp[1] - h[tmp[0]])\n",
    "        visited.append(node[0])\n",
    "        if (node[0] == goal):\n",
    "            break\n",
    "        neighbourg = list_neighbourg(node, graph)\n",
    "        for i in neighbourg:\n",
    "            if i[0] not in visited:\n",
    "                tmp = (i[0], i[1] - h[i[0]])\n",
    "                parents[tmp] = node\n",
    "                stack.append(i)\n",
    "                \n",
    "    if node[0] == goal:\n",
    "        path = []\n",
    "        path.append(node[0])\n",
    "        parent = node\n",
    "        while parent in parents.keys():\n",
    "            parent = parents[parent]\n",
    "            path.append(parent[0])\n",
    "        return path[::-1]\n",
    "\n",
    "    return -1\n",
    "\n",
    "h = {\"S\":10, \"A\":5, \"C\":4, \"D\":3, \"F\":4, \"G\":0, \"H\":2}\n",
    "\n",
    "graph = {\"S\":[(\"F\", 7), (\"A\", 2)], \"F\":[(\"H\", 2), (\"G\", 5), (\"A\", 8)], \"H\":[], \"G\":[], \"D\": [(\"G\", 3)], \"C\": [(\"D\", 3), (\"G\", 5)], \"A\": [(\"F\", 8), (\"C\", 4)]}\n",
    "\n",
    "print(Greedy_BFS(\"S\", \"G\", graph, h))\n"
   ]
  },
  {
   "cell_type": "markdown",
   "id": "07d2a9df",
   "metadata": {
    "collapsed": false
   },
   "source": [
    "5. Comment transformer cette implémentation en l’algorithme $A^∗$?\n",
    "    \n",
    "    Pour transformer cette implémentation en l'algorithme $A^*$, il faut ajouter à notre heuristique $h$ une fonction $g$ qui prend en compte l'état du système afin de diriger l'algorithme vers la solution optimale.\n",
    "    Dans notre cas, on peut définir $g(v)$ = coût du chemin déjà parcouru.\n",
    "    Ainsi, notre fonction d'évaluation nous donnera:\n",
    "    $$f(v) = g(v) + h(v)$$\n",
    "    avec $h(v)$ la fonction définie précédement."
   ]
  },
  {
   "cell_type": "code",
   "execution_count": 12,
   "id": "dde64e48",
   "metadata": {
    "collapsed": false
   },
   "outputs": [
    {
     "name": "stdout",
     "output_type": "stream",
     "text": [
      "[('S', 0), ('A', 2), ('C', 6), ('G', 11)]\n"
     ]
    }
   ],
   "source": [
    "def list_neighbourg(node: dict[str, int], graph: dict[str, list[tuple[str, int]]]):\n",
    "    result = []\n",
    "    for i in graph[node[0]]:\n",
    "        g = i[1] + node[1]\n",
    "        result.append((i[0], g + h[i[0]]))\n",
    "    return result\n",
    "\n",
    "\n",
    "def Greedy_BFS(start: str, goal: str, graph, h: dict[str, int]):\n",
    "    visited = []\n",
    "    stack = []\n",
    "    parents = {}\n",
    "    node = \"\"\n",
    "    stack.append((start, h[start]))\n",
    "    while (len(stack) != 0):\n",
    "        tmp = stack.pop()\n",
    "        node = (tmp[0], tmp[1] - h[tmp[0]])\n",
    "        visited.append(node[0])\n",
    "        if (node[0] == goal):\n",
    "            break\n",
    "        neighbourg = list_neighbourg(node, graph)\n",
    "        for i in neighbourg:\n",
    "            if i[0] not in visited:\n",
    "                tmp = (i[0], i[1] - h[i[0]])\n",
    "                parents[tmp] = node\n",
    "                stack.append(i)\n",
    "        stack.sort(key=lambda item: item[1], reverse=True)\n",
    "                \n",
    "    if node[0] == goal:\n",
    "        path = []\n",
    "        path.append(node)\n",
    "        parent = node\n",
    "        while parent in parents.keys():\n",
    "            parent = parents[parent]\n",
    "            path.append(parent)\n",
    "        return path[::-1]\n",
    "\n",
    "    return -1\n",
    "\n",
    "h = {\"S\":10, \"A\":5, \"C\":4, \"D\":3, \"F\":4, \"G\":0, \"H\":2}\n",
    "\n",
    "graph = {\"S\":[(\"F\", 7), (\"A\", 2)], \"F\":[(\"H\", 2), (\"G\", 5), (\"A\", 8)], \"H\":[], \"G\":[], \"D\": [(\"G\", 3)], \"C\": [(\"D\", 3), (\"G\", 5)], \"A\": [(\"F\", 8), (\"C\", 4)]}\n",
    "\n",
    "print(Greedy_BFS(\"S\", \"G\", graph, h))\n",
    "        "
   ]
  },
  {
   "cell_type": "markdown",
   "id": "a60f8654",
   "metadata": {
    "collapsed": false
   },
   "source": [
    "6. Pour chacune de ces deux méthodes de recherche, listez dans un tableau de 3 colonnes:\n",
    "   - les noeuds de l'arbre\n",
    "   - la valeur de la fonction d'évaluation\n",
    "   - leur parent\n",
    "   dans l'ordre dans lequel ils seront développés"
   ]
  },
  {
   "cell_type": "markdown",
   "id": "8f1df542-eda8-40ed-80e7-cb3d761c55d2",
   "metadata": {
    "collapsed": false
   },
   "source": [
    "Voici la table que je propose:\n",
    "\n",
    "_Greedy Best First Search_\n",
    "| Node | f(v) = h(v) | Parent |\n",
    "|:-----:|:----:|:------:|\n",
    "| S | 10 | None |\n",
    "| F | 4 | S |\n",
    "| G | 2 | F |\n",
    "\n",
    "$A^*$\n",
    "| Node | f(v) = g(v) + h(v) | Parent |\n",
    "|:----:|:-----------:|:------:|\n",
    "| S | 10 | None |\n",
    "| A | 7 | S |\n",
    "| C | 10 | A |\n",
    "| F | 11 | S |\n",
    "| G | 11 | C |\n"
   ]
  },
  {
   "cell_type": "markdown",
   "id": "4fbfeb53-2c21-4250-97f7-263ec0b73247",
   "metadata": {
    "collapsed": false
   },
   "source": [
    "## Satisfaction de contraintes"
   ]
  }
 ],
 "metadata": {
  "kernelspec": {
   "argv": [
    "python",
    "-m",
    "ipykernel_launcher",
    "-f",
    "{connection_file}"
   ],
   "display_name": "Python 3 (ipykernel)",
   "env": null,
   "interrupt_mode": "signal",
   "language": "python",
   "metadata": {
    "debugger": true
   },
   "name": "python3"
  },
  "language_info": {
   "codemirror_mode": {
    "name": "ipython",
    "version": 3
   },
   "file_extension": ".py",
   "mimetype": "text/x-python",
   "name": "python",
   "nbconvert_exporter": "python",
   "pygments_lexer": "ipython3",
   "version": "3.11.6"
  },
  "name": "Untitled.ipynb"
 },
 "nbformat": 4,
 "nbformat_minor": 5
}
