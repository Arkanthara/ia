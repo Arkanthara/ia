{
 "cells": [
  {
   "cell_type": "markdown",
   "id": "9e9923ad-c8e3-4f63-b42e-702b29f95f2c",
   "metadata": {
    "collapsed": false
   },
   "source": [
    "# TP2\n",
    "## 1 Algorithme $A*$\n",
    "\n",
    "Le graphe dirigé de l'énoncé représente le graphe d’état et les coûts de transitions de votre problème.\n",
    "On donne $S_I = S$ et $S_G = G$.\n",
    "\n",
    "### 1.1 Recherche aveugle\n",
    "Dans un tableau de 3 colonnes renseignez les noeuds de l’arbre, la valeur de la fonction d’évaluation et leur parent dans l’ordre dans lequels ils seront développés dans une\n",
    "recherche aveugle de votre choix (vous pouvez dessiner l’arbre de recherche)."
   ]
  },
  {
   "cell_type": "markdown",
   "id": "adb50075-b5fb-456f-9df2-e4539a554cac",
   "metadata": {
    "collapsed": false
   },
   "source": [
    "Pour résoudre ce problème, je vais utiliser un algorithme Best First Search. Pour choisir les noeuds, on va utiliser un ordre alphabétique inversé. Donc par exemple, si on a A, B et C comme noeuds voisins,\n",
    "on va d'abord explorer la branche passant par C, puis par B, puis par A... Dans notre cas, on a A et F, donc on va commencer par visiter F. Ce qui nous donne le tableau suivant, avec les noeuds visités dans\n",
    "l'ordre alphabétique inversé:\n",
    "\n",
    "| Node | Parent | Cost |\n",
    "|:----:|:------:|:----:|\n",
    "| S | None | 0 |\n",
    "| F | S | 7 |\n",
    "| H | F | 9 |\n",
    "| G | F | 12 |"
   ]
  },
  {
   "cell_type": "markdown",
   "id": "167a6ddb",
   "metadata": {
    "collapsed": false
   },
   "source": [
    "### 1.2 Recherche heuristique\n",
    "Le tableau suivant propose une heuristique h telle que h(s) estime le coût du chemin jusqu’à\n",
    "l’état final SG dans le graphe\n",
    "\n",
    "| Etat | S | A | C | D | F | G | H |\n",
    "|:-:|:-:|:-:|:-:|:-:|:-:|:-:|:-:|\n",
    "| h | 10 | 5 | 4 | 3 | 4 | 0 | 2 |"
   ]
  },
  {
   "cell_type": "markdown",
   "id": "ea106cd9-5c28-495c-944c-306547c02e46",
   "metadata": {
    "collapsed": false
   },
   "source": [
    "1. Cette fonction heuristique est-elle admissible ? Pourquoi ?\n",
    "\n",
    "    Une heuristique est admissible si elle sous-estime le coût du chemin vers la solution. Donc si $h^*(v)$ est le coût réel du chemin allant jusqu'au noeud $v$, alors si $h$ est admissible,\n",
    "    on aura:\n",
    "    $$0 \\leq h(v) \\leq h^*(v)$$\n",
    "    Dans notre cas, on a $0 \\leq h(G) = 0 \\leq h^*(G) = 11 $ (j'ai calculé de tête le coût minimal de la solution avec la pondération du graphe...). Donc notre heuristique est admissible. Et elle est de toute façon admissible car $h(G) = 0$ et que $h^*(G) \\geq 0$ donc $h^*(G) \\geq h(G) \\geq 0$. Donc même sans calculer de tête $h^*(G)$, comme le coût est supposé toujours positif, on a que notre heuristique est admissible."
   ]
  },
  {
   "cell_type": "markdown",
   "id": "09b41df4-2310-4fb6-8303-701389d8e1ee",
   "metadata": {
    "collapsed": false
   },
   "source": [
    "2. Cette fonction heuristique est-elle consistante ? Pourquoi ?\n",
    "\n",
    "    Une heuristique est dite consistante si elle maintient cet ordre:\n",
    "\n",
    "    S'il existe une transition allant de $s$ à $s'$ de coût $c(s, s')$, alors\n",
    "    $$h(s) \\leq h(s') + c(s, s')$$\n",
    "\n",
    "    Dans notre cas, on a:\n",
    "    $h(A) = 5 \\leq h(S) + c(F, A) = 4 + 8 = 12$ Ok\n",
    "\n",
    "    $h(F) = 4 \\leq h(A) + c(A, F) = 5 + 8 = 13$ Ok\n",
    "\n",
    "    $h(G) = 0 \\leq h(F) + c(F, G) = 4 + 5 = 9$ Ok // À considérer ???\n",
    "\n",
    "    $h(G) = 0 \\leq h(C) + c(C, G) = 4 + 5 = 9$ Ok // Idem\n",
    "    \n",
    "    $h(G) = 0 \\leq h(D) + c(D, G) = 3 + 3 = 6$ Ok // Idem\n",
    "\n",
    "    Notre fonction est donc consistante\n"
   ]
  },
  {
   "cell_type": "markdown",
   "id": "268d2e8a-384a-41fc-8300-1857fc6d8d7c",
   "metadata": {
    "collapsed": false
   },
   "source": [
    "3. Quelles sont les fonctions d'évaluation utilisées par la méthode _greedy best first search_ et l'algorithme $A^*$ ?\n",
    "\n",
    "    La fonction d'évaluation utilisée par la méthode _greedy best first search_ est donnée par:\n",
    "    $$f(v) = h(v)$$\n",
    "    La fonction d'évaluation utilisée par l'algorithme $A^*$ est donnée par:\n",
    "    $$f(v) = g(v) + h(v)$$\n",
    "    La fonction $g(v)$ est la prise en compte de la connaissance actuelle de notre système pour mieux se diriger vers la solution optimale."
   ]
  },
  {
   "cell_type": "code",
   "execution_count": 8,
   "id": "a3336717-2ad5-403d-bf99-430aa590f3b5",
   "metadata": {
    "collapsed": false
   },
   "outputs": [
    {
     "name": "stdout",
     "output_type": "stream",
     "text": [
      "['S', 'F', 'G']\n"
     ]
    }
   ],
   "source": [
    "# This function return a list of neighbourg from a node given, sorted in decrease cost\n",
    "# because we takes the elements by the end of the list...\n",
    "def list_neighbourg(node: dict[str, int], graph: dict[str, list[tuple[str, int]]]):\n",
    "    result = []\n",
    "    for i in graph[node[0]]:\n",
    "        # Here we store values with just the evaluating function equal to h(G)\n",
    "        result.append((i[0], h[i[0]]))\n",
    "    result.sort(key=lambda item: item[1], reverse=True)\n",
    "    return result\n",
    "\n",
    "# This function is greedy best first search\n",
    "def Greedy_BFS(start: str, goal: str, graph, h: dict[str, int]):\n",
    "    visited = []\n",
    "    stack = []\n",
    "    parents = {}\n",
    "    node = \"\"\n",
    "    stack.append((start, h[start]))\n",
    "    # We visit the graph\n",
    "    while (len(stack) != 0):\n",
    "        tmp = stack.pop()\n",
    "        node = (tmp[0], tmp[1] - h[tmp[0]])\n",
    "        visited.append(node[0])\n",
    "        if (node[0] == goal):\n",
    "            break\n",
    "        neighbourg = list_neighbourg(node, graph)\n",
    "        for i in neighbourg:\n",
    "            if i[0] not in visited:\n",
    "                tmp = (i[0], i[1] - h[i[0]])\n",
    "                # Parents is used for backtracking\n",
    "                parents[tmp] = node\n",
    "                stack.append(i)\n",
    "    # If we find a path, we backtrack this path\n",
    "    if node[0] == goal:\n",
    "        path = []\n",
    "        path.append(node[0])\n",
    "        parent = node\n",
    "        while parent in parents.keys():\n",
    "            parent = parents[parent]\n",
    "            path.append(parent[0])\n",
    "        return path[::-1]\n",
    "    return []\n",
    "\n",
    "h = {\"S\":10, \"A\":5, \"C\":4, \"D\":3, \"F\":4, \"G\":0, \"H\":2}\n",
    "\n",
    "graph = {\"S\":[(\"F\", 7), (\"A\", 2)], \"F\":[(\"H\", 2), (\"G\", 5), (\"A\", 8)], \"H\":[], \"G\":[], \"D\": [(\"G\", 3)], \"C\": [(\"D\", 3), (\"G\", 5)], \"A\": [(\"F\", 8), (\"C\", 4)]}\n",
    "\n",
    "print(Greedy_BFS(\"S\", \"G\", graph, h))\n"
   ]
  },
  {
   "cell_type": "markdown",
   "id": "07d2a9df",
   "metadata": {
    "collapsed": false
   },
   "source": [
    "5. Comment transformer cette implémentation en l’algorithme $A^∗$?\n",
    "    \n",
    "    Pour transformer cette implémentation en l'algorithme $A^*$, il faut ajouter à notre heuristique $h$ une fonction $g$ qui prend en compte l'état du système afin de diriger l'algorithme vers la solution optimale.\n",
    "    Dans notre cas, on peut définir $g(v)$ = coût du chemin déjà parcouru.\n",
    "    Ainsi, notre fonction d'évaluation nous donnera:\n",
    "    $$f(v) = g(v) + h(v)$$\n",
    "    avec $h(v)$ la fonction définie précédement."
   ]
  },
  {
   "cell_type": "code",
   "execution_count": 9,
   "id": "dde64e48",
   "metadata": {
    "collapsed": false
   },
   "outputs": [
    {
     "name": "stdout",
     "output_type": "stream",
     "text": [
      "[('S', 0), ('A', 2), ('C', 6), ('G', 11)]\n"
     ]
    }
   ],
   "source": [
    "# This function return a list of neighbourgs from a node given\n",
    "def list_neighbourg(node: dict[str, int], graph: dict[str, list[tuple[str, int]]]):\n",
    "    result = []\n",
    "    for i in graph[node[0]]:\n",
    "        g = i[1] + node[1]\n",
    "        # Here we have our evaluating function equal to g(G) + h(G) for a node G\n",
    "        result.append((i[0], g + h[i[0]]))\n",
    "    return result\n",
    "\n",
    "# This is the algorithm A*\n",
    "def A_Star(start: str, goal: str, graph, h: dict[str, int]):\n",
    "    visited = []\n",
    "    stack = []\n",
    "    parents = {}\n",
    "    node = \"\"\n",
    "    stack.append((start, h[start]))\n",
    "    # We iterate over our graph\n",
    "    while (len(stack) != 0):\n",
    "        tmp = stack.pop()\n",
    "        node = (tmp[0], tmp[1] - h[tmp[0]])\n",
    "        visited.append(node[0])\n",
    "        if (node[0] == goal):\n",
    "            break\n",
    "        neighbourg = list_neighbourg(node, graph)\n",
    "        for i in neighbourg:\n",
    "            if i[0] not in visited:\n",
    "                # Here we store the node without the heuristic function h for easily backtrack\n",
    "                # the solution later...\n",
    "                tmp = (i[0], i[1] - h[i[0]])\n",
    "                parents[tmp] = node\n",
    "                stack.append(i)\n",
    "        # We sort all nodes in decrease cost because we choose the last node, so the node\n",
    "        # with the smallest cost\n",
    "        stack.sort(key=lambda item: item[1], reverse=True)\n",
    "    # We backtrack the solution\n",
    "    if node[0] == goal:\n",
    "        path = []\n",
    "        path.append(node)\n",
    "        parent = node\n",
    "        while parent in parents.keys():\n",
    "            parent = parents[parent]\n",
    "            path.append(parent)\n",
    "        return path[::-1]\n",
    "\n",
    "    return []\n",
    "\n",
    "h = {\"S\":10, \"A\":5, \"C\":4, \"D\":3, \"F\":4, \"G\":0, \"H\":2}\n",
    "\n",
    "graph = {\"S\":[(\"F\", 7), (\"A\", 2)], \"F\":[(\"H\", 2), (\"G\", 5), (\"A\", 8)], \"H\":[], \"G\":[], \"D\": [(\"G\", 3)], \"C\": [(\"D\", 3), (\"G\", 5)], \"A\": [(\"F\", 8), (\"C\", 4)]}\n",
    "\n",
    "print(A_Star(\"S\", \"G\", graph, h))\n",
    "        "
   ]
  },
  {
   "cell_type": "markdown",
   "id": "a60f8654",
   "metadata": {
    "collapsed": false
   },
   "source": [
    "6. Pour chacune de ces deux méthodes de recherche, listez dans un tableau de 3 colonnes:\n",
    "   - les noeuds de l'arbre\n",
    "   - la valeur de la fonction d'évaluation\n",
    "   - leur parent\n",
    "   dans l'ordre dans lequel ils seront développés"
   ]
  },
  {
   "cell_type": "markdown",
   "id": "8f1df542-eda8-40ed-80e7-cb3d761c55d2",
   "metadata": {
    "collapsed": false
   },
   "source": [
    "Voici la table que je propose:\n",
    "\n",
    "_Greedy Best First Search_\n",
    "| Node | f(v) = h(v) | Parent |\n",
    "|:-----:|:----:|:------:|\n",
    "| S | 10 | None |\n",
    "| F | 4 | S |\n",
    "| G | 2 | F |\n",
    "\n",
    "$A^*$\n",
    "| Node | f(v) = g(v) + h(v) | Parent |\n",
    "|:----:|:-----------:|:------:|\n",
    "| S | 10 | None |\n",
    "| A | 7 | S |\n",
    "| C | 10 | A |\n",
    "| F | 11 | S |\n",
    "| G | 11 | C |\n"
   ]
  },
  {
   "cell_type": "markdown",
   "id": "4fbfeb53-2c21-4250-97f7-263ec0b73247",
   "metadata": {
    "collapsed": false
   },
   "source": [
    "## Satisfaction de contraintes"
   ]
  },
  {
   "cell_type": "markdown",
   "id": "ab09eb3a",
   "metadata": {
    "collapsed": false
   },
   "source": [
    "Un architecte doit construire une maison de 4 pièces (1,2,3,4) organisées de la façon suivante:\n",
    "- Le coté gauche de la maison est composé des pièces 1 et 2, le coté droit est composé des\n",
    "chambres 3 et 4.\n",
    "- Deux pièces sont adjacentes si elles partagent un mur complet (par exemple la pièce 2 est\n",
    "adjacente aux pièces 1 et 3 mais pas à la pièce 4).\n",
    "\n",
    "Vous devez décider où placer la cave C (l’une des quatre pièces), une fenêtre F et une porte\n",
    "extérieure P. Les futurs propriétaires de la maison ont donné les contraintes suivantes:\n",
    "- F ne peut pas être dans C, ni dans l’une des pièces adjacentes à C\n",
    "- C et P ne peuvent pas être du même coté (droit ou gauche) de la maison\n",
    "- La pièce contenant F doit être adjacente à au moins deux pièces\n",
    "- La pièce contenant P doit être adjacente à au moins deux pièces\n"
   ]
  },
  {
   "cell_type": "markdown",
   "id": "321ca49f",
   "metadata": {
    "collapsed": false
   },
   "source": [
    "### Formulation du problème sous forme d'un CSP\n",
    "\n",
    "1. Quelles sont les variables $x_i$ du problème? Est-ce que ce choix est unique ?\n",
    "\n",
    "    _S’il y a plusieurs representations possibles, séléctionnez pour le reste de l’exercice celle qui possède le plus petit nombre de variables._\n",
    "\n",
    "    a. On pourrait avoir comme variable de notre problème $x_1, x_2, x_3$ et $x_4$ avec $x_i$    représentant la pièce $i$. Ces variables pourraient alors prendre une valeur comprise dans $\\{F, C, P\\}$, qui représentent la cave, la fenêtre et la porte extérieure.\n",
    "\n",
    "    b. On pourrait également avoir comme variable de notre problème $x_1, x_2$ et $x_3$ avec $x_1$ représentant la cave $C$, $x_2$ représentant la fenêtre $F$ et $x_3$ représentant la porte $P$. Les valeurs possibles de ces variables seraient alors une valeur prise dans $\\{1, 2, 3, 4\\}$, qui représentera le numéro de la pièce comme sur la figure de l'énoncé, indiquant dans quelle pièce se trouverait la cave la fenêtre ou la porte.\n",
    "\n",
    "    Pour la suite de l'exercice, on considèrera les variables définies dans le 1.b."
   ]
  },
  {
   "cell_type": "markdown",
   "id": "d4b032aa",
   "metadata": {
    "collapsed": false
   },
   "source": [
    "2. Quelles sont les domaines $D_i$ des valeurs possibles $v_i$ pour chaque variable $x_i$ (ici on ne tient pas compte des contraintes) ?\n",
    "\n",
    "    Les domaines $D_i$ des valeurs possibles $v_i$ pour chaque variable $x_i$ sont:\n",
    "    $D_i = \\{1, 2, 3, 4\\}$ pour $i \\in \\{1, 2, 3\\}$ si on ne considère pas les contraintes, \n",
    "    car sans contrainte, la Cave, la Porte extérieur et la Fenêtre peuvent se retrouver dans\n",
    "    n'importe laquelle des pièces."
   ]
  },
  {
   "cell_type": "markdown",
   "id": "50283b0e",
   "metadata": {
    "collapsed": false
   },
   "source": [
    "3. Quel est l'ensemble des contraintes $c_k$ sur les variables ?\n",
    "   Représentez chacune des contraintes $c_k$ sous la forme:\n",
    "   $$c_k = < x_1, \\dots, x_n>:<v_11, \\dots, v_1k>, <v_21, \\dots, v_2m>$$\n",
    "   \n",
    "   Où $< x_1, · · · , x_n > est le tuple de $n$ variables relatives à la contrainte $c_k$ et\n",
    "   $v_ij$ est l’ensemble des valeurs possibles du domaine $D_i$ de $x_i$ satisfaisant la contrainte.\n",
    "   Par exemple:\n",
    "   $$c_1 =< x_1, x_2 >: < 2, 4 >, < 1, 2 >$$\n",
    "   represente une contrainte c1 binaire entre les deux variables x1 et x2. Cette contrainte\n",
    "   nécessite que $x_1$ et $x_2$ prennent les valeurs 2 ou 4 et 1 ou 2, respectivement.\n",
    "   \n",
    "   L'ensemble des contraintes $c_k$ sur les variables $x_1$, $x_2$ et $x_3$ est donné par:\n",
    "   (Rappel: $x_1$ = numéro de la pièce où se trouve la cave, $x_2$ = numéro de la pièce où se trouve la fenêtre et $x_3$ = numéro de la pièce où se trouve la porte extérieur.\n",
    "   $$c_1 = <x_1, x_2>: <1, 3>, <1, 4>, <2, 4>, <3, 1>, <4, 1>, <4, 2>$$\n",
    "   $$c_2 = <x_1, x_3>: <1, 3>, <1, 4>, <2, 3>, <2, 4>, <3, 1>, <3, 2>, <4, 1>, <4, 2>$$\n",
    "   $$c_3 = <x_2>: <2>, <3>$$\n",
    "   $$c_4 = <x_3>: <2>, <3>$$\n",
    "   Avec $c_1$ la contrainte que la fenêtre ne peut pas être dans la cave, ni dans l'une des pièces adjacentes à la cave, $c_2$ la contrainte que la cave et la porte extérieure ne peuvent pas être du même côté, $c_3$ la contrainte que la pièce contenant la fenêtre doit être adjacente à au moins deux pièces, et $c_4$ la contrainte que la pièce contenant la porte extérieure doit être adjacente à au moins deux pièces.\n",
    "        "
   ]
  },
  {
   "cell_type": "markdown",
   "id": "d8a4f6f4-3efd-404c-9e89-3c006b2f460f",
   "metadata": {
    "collapsed": false
   },
   "source": [
    "### Backtracking\n",
    "\n",
    "1. Utilisez la recherche backtracking avec forward checking pour touver un assignement de \n",
    "   valeurs aux variables qui satisfait toute les contraintes:\n",
    "   \n",
    "   Commencez par résoudre les contraintes unitaires. Vous devrez alternativement sélectionner une valeur pour une variable et appliquer le forward checking.\n",
    "\n",
    "    Assignez les valeurs aux variables dans un ordre alphabétique/numérique sans utiliser aucune heuristique.\n",
    "\n",
    "    Après chaque étape d’assignation et chaque étape de forward checking, indiquez pour chaque variable sa valeur assignée ou le domaine possible d’assignation.\n",
    "    \n",
    "    | $x_1 = C$ | $x_2 = F$ | $x_3 = P$ |\n",
    "    |:---------:|:---------:|:---------:|\n",
    "    | 1, 2, 3, 4 | 2, 3 | 2, 3 |\n",
    "    | 1, 2,4 | __2__ | 2, 3 |\n",
    "    | 4 | 2 | __2__ |\n",
    "    | __4__ | 2 | 2 |"
   ]
  },
  {
   "cell_type": "code",
   "execution_count": 14,
   "id": "7715cc3a-d2df-4b0d-b6ef-4b610cbbbc6f",
   "metadata": {
    "collapsed": false
   },
   "outputs": [
    {
     "name": "stdout",
     "output_type": "stream",
     "text": [
      "Assignated variables: {}\n",
      "Domain of other variables: {'C': [1, 2, 3, 4], 'F': [2, 3], 'P': [2, 3]}\n",
      "Assignated variables: {'C': 1}\n",
      "Domain of other variables: {'F': [3], 'P': [3]}\n",
      "Assignated variables: {'C': 1, 'F': 3}\n",
      "Domain of other variables: {'P': [3]}\n",
      "Result of the assignations by the backtracking: {'C': 1, 'F': 3, 'P': 3}\n"
     ]
    }
   ],
   "source": [
    "from copy import deepcopy\n",
    "\n",
    "# This function indicate us if we find a solution.\n",
    "# In fact, we just verify for our problem that all the variables are assignated, so\n",
    "# that our dict has a len of 3.\n",
    "def stop_condition(current: dict[str, int]) -> bool:\n",
    "    if len(current) == 3:\n",
    "        return True\n",
    "    return False\n",
    "\n",
    "# This function define the constraints of our problem\n",
    "def define_constraints() -> dict[tuple[str, str], list[tuple[int, int]]]:\n",
    "    return {\n",
    "        ('C', 'F'): [(1, 3), (1, 4), (2, 4), (3, 1), (4, 1), (4, 2)],\n",
    "        ('C', 'P'): [(1, 3), (1, 4), (2, 3), (2, 4), (3, 1), (3, 2), (4, 1), (4, 2)]\n",
    "    }\n",
    "     \n",
    "# This function is responsible of the update of the domain of each variables for an assignation given.\n",
    "def forward_checking(current: dict[str, int], domain: dict[str, list[int]], assign: tuple[str, int]) -> dict[str, list[int]]:\n",
    "    newdomain = deepcopy(domain)\n",
    "    constraints = define_constraints()\n",
    "    tmp = []\n",
    "    tmp2 = []\n",
    "\n",
    "    # We iterate throught our domain and throught our constraints and if we have the element\n",
    "    # assignated and the element of our domain in a constraint, we update the domain of the\n",
    "    # element of the domain by creating a new list for this domain's variable (with no doublons)\n",
    "    for item1 in newdomain:\n",
    "        for (item2, item3) in constraints:\n",
    "            if assign[0] == item2 or assign[0] == item3:\n",
    "                if item1 == item2 or item1 == item3:\n",
    "                    for (i, j) in constraints[(item2, item3)]:\n",
    "                        if i == assign[1]:\n",
    "                            tmp.append(j)\n",
    "                    for i in newdomain[item1]:\n",
    "                        if i in tmp:\n",
    "                            tmp2.append(i)\n",
    "                    newdomain[item1] = list(set(tmp2))\n",
    "    return newdomain\n",
    "\n",
    "# This function is the backtracking with forward checking. In current, we have the current assignation,\n",
    "# and in domain, we have all the domain of the variables not yet assignated.\n",
    "def backtracking(current: dict[str, int], domain: dict[str, list[int]]):\n",
    "    # If we find a solution, we return it\n",
    "    if stop_condition(current):\n",
    "        return current\n",
    "    # We print the current assignation and the current domain of non assignated variables\n",
    "    print(\"Assignated variables: \" + str(current))\n",
    "    print(\"Domain of other variables: \" + str(domain))\n",
    "    value = list(domain.keys())[0]\n",
    "    possibilities = domain.pop(value)\n",
    "    # We try all the assignations of the first variable of our domain thanks to a recursive call to our function\n",
    "    for i in possibilities:\n",
    "        current[value] = i\n",
    "        domain = forward_checking(current, domain, (value, i))\n",
    "        for i in domain:\n",
    "            # If our new domain has some variables with an empty domain, we return {} for an error\n",
    "            if len(domain[i]) == 0:\n",
    "                return {}\n",
    "        return backtracking(current, domain)\n",
    "\n",
    "domain = {'C': [1, 2, 3, 4], 'F': [2, 3], 'P': [2, 3]}\n",
    "print(\"Result of the assignations by the backtracking: \" + str(backtracking({}, domain)))\n"
   ]
  }
 ],
 "metadata": {
  "kernelspec": {
   "argv": [
    "python",
    "-m",
    "ipykernel_launcher",
    "-f",
    "{connection_file}"
   ],
   "display_name": "Python 3 (ipykernel)",
   "env": null,
   "interrupt_mode": "signal",
   "language": "python",
   "metadata": {
    "debugger": true
   },
   "name": "python3"
  },
  "language_info": {
   "codemirror_mode": {
    "name": "ipython",
    "version": 3
   },
   "file_extension": ".py",
   "mimetype": "text/x-python",
   "name": "python",
   "nbconvert_exporter": "python",
   "pygments_lexer": "ipython3",
   "version": "3.11.6"
  },
  "name": "Michel_Donnet_TP2.ipynb"
 },
 "nbformat": 4,
 "nbformat_minor": 5
}
